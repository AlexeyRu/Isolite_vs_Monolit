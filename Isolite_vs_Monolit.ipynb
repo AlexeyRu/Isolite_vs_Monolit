{
 "cells": [
  {
   "cell_type": "code",
   "execution_count": 1,
   "metadata": {},
   "outputs": [
    {
     "name": "stderr",
     "output_type": "stream",
     "text": [
      "Using Theano backend.\n"
     ]
    }
   ],
   "source": [
    "# Импорты + зафиксируем все ,что можно\n",
    "\n",
    "from __future__ import print_function\n",
    "\n",
    "import keras\n",
    "from keras.datasets import mnist\n",
    "from keras.models import Sequential\n",
    "from keras.layers import Dense, Dropout\n",
    "from keras.optimizers import RMSprop,SGD\n",
    "\n",
    "# https://keras.io/getting-started/faq/#how-can-i-obtain-reproducible-results-using-keras-during-development\n",
    "import numpy as np\n",
    "import tensorflow as tf\n",
    "import random as rn\n",
    "\n",
    "# The below is necessary in Python 3.2.3 onwards to\n",
    "# have reproducible behavior for certain hash-based operations.\n",
    "# See these references for further details:\n",
    "# https://docs.python.org/3.4/using/cmdline.html#envvar-PYTHONHASHSEED\n",
    "# https://github.com/keras-team/keras/issues/2280#issuecomment-306959926\n",
    "\n",
    "import os\n",
    "os.environ['PYTHONHASHSEED'] = '0'\n",
    "\n",
    "# The below is necessary for starting Numpy generated random numbers\n",
    "# in a well-defined initial state.\n",
    "\n",
    "np.random.seed(123)\n",
    "\n",
    "# The below is necessary for starting core Python generated random numbers\n",
    "# in a well-defined state.\n",
    "\n",
    "rn.seed(123)\n",
    "\n",
    "# Force TensorFlow to use single thread.\n",
    "# Multiple threads are a potential source of\n",
    "# non-reproducible results.\n",
    "# For further details, see: https://stackoverflow.com/questions/42022950/which-seeds-have-to-be-set-where-to-realize-100-reproducibility-of-training-res\n",
    "\n",
    "session_conf = tf.ConfigProto(intra_op_parallelism_threads=1, inter_op_parallelism_threads=1)\n",
    "\n",
    "from keras import backend as K\n",
    "\n",
    "# The below tf.set_random_seed() will make random number generation\n",
    "# in the TensorFlow backend have a well-defined initial state.\n",
    "# For further details, see: https://www.tensorflow.org/api_docs/python/tf/set_random_seed\n",
    "\n",
    "tf.set_random_seed(123)\n",
    "\n",
    "#sess = tf.Session(graph=tf.get_default_graph(), config=session_conf)\n",
    "#K.set_session(sess)\n"
   ]
  },
  {
   "cell_type": "code",
   "execution_count": 2,
   "metadata": {},
   "outputs": [],
   "source": [
    "batch_size = 128\n",
    "num_classes = 10\n",
    "epochs = 10"
   ]
  },
  {
   "cell_type": "code",
   "execution_count": 3,
   "metadata": {},
   "outputs": [
    {
     "name": "stdout",
     "output_type": "stream",
     "text": [
      "60000 train samples\n",
      "10000 test samples\n"
     ]
    }
   ],
   "source": [
    "# the data, split between train and test sets\n",
    "(x_train, y_train), (x_test, y_test) = mnist.load_data()\n",
    "\n",
    "x_train = x_train.reshape(60000, 784)\n",
    "x_test = x_test.reshape(10000, 784)\n",
    "x_train = x_train.astype('float32')\n",
    "x_test = x_test.astype('float32')\n",
    "x_train /= 255\n",
    "x_test /= 255\n",
    "print(x_train.shape[0], 'train samples')\n",
    "print(x_test.shape[0], 'test samples')\n",
    "\n",
    "# convert class vectors to binary class matrices\n",
    "y_train = keras.utils.to_categorical(y_train, num_classes)\n",
    "y_test = keras.utils.to_categorical(y_test, num_classes)"
   ]
  },
  {
   "cell_type": "code",
   "execution_count": 4,
   "metadata": {},
   "outputs": [
    {
     "name": "stdout",
     "output_type": "stream",
     "text": [
      "_________________________________________________________________\n",
      "Layer (type)                 Output Shape              Param #   \n",
      "=================================================================\n",
      "dense_1 (Dense)              (None, 512)               401920    \n",
      "_________________________________________________________________\n",
      "dropout_1 (Dropout)          (None, 512)               0         \n",
      "_________________________________________________________________\n",
      "dense_2 (Dense)              (None, 512)               262656    \n",
      "_________________________________________________________________\n",
      "dropout_2 (Dropout)          (None, 512)               0         \n",
      "_________________________________________________________________\n",
      "dense_3 (Dense)              (None, 10)                5130      \n",
      "=================================================================\n",
      "Total params: 669,706\n",
      "Trainable params: 669,706\n",
      "Non-trainable params: 0\n",
      "_________________________________________________________________\n"
     ]
    }
   ],
   "source": [
    "# Создаем модель и фиксируем seed в слоях Dropout\n",
    "model = Sequential()\n",
    "model.add(Dense(512, activation='relu', input_shape=(784,)))\n",
    "model.add(Dropout(0.2,seed=123))\n",
    "model.add(Dense(512, activation='relu'))\n",
    "model.add(Dropout(0.2,seed=123))\n",
    "model.add(Dense(num_classes, activation='softmax'))\n",
    "\n",
    "model.summary()\n",
    "\n",
    "model.compile(loss='categorical_crossentropy',\n",
    "              optimizer=\"SGD\",\n",
    "              metrics=['accuracy'])\n",
    "\n",
    "# Сохраним начальные веса модели\n",
    "path_0 = \"start_weights.h5\" # путь к файлу с начальными весами\n",
    "model.save_weights(filepath=path_0)"
   ]
  },
  {
   "cell_type": "markdown",
   "metadata": {},
   "source": [
    "### Тренируем изолированную модель"
   ]
  },
  {
   "cell_type": "code",
   "execution_count": 5,
   "metadata": {
    "scrolled": true
   },
   "outputs": [
    {
     "name": "stdout",
     "output_type": "stream",
     "text": [
      "Изолированная модель\n"
     ]
    },
    {
     "name": "stderr",
     "output_type": "stream",
     "text": [
      "WARNING (theano.tensor.blas): We did not find a dynamic library in the library_dir of the library we use for blas. If you use ATLAS, make sure to compile it with dynamics library.\n"
     ]
    },
    {
     "name": "stdout",
     "output_type": "stream",
     "text": [
      "Попытка № 0  Test loss: 0.21144454316198827  Test accuracy: 0.9389\n",
      "Попытка № 1  Test loss: 0.21172240974754095  Test accuracy: 0.9384\n",
      "Попытка № 2  Test loss: 0.21128906050920487  Test accuracy: 0.9391\n",
      "Попытка № 3  Test loss: 0.2110327853769064  Test accuracy: 0.939\n",
      "Попытка № 4  Test loss: 0.21096362763792276  Test accuracy: 0.9389\n",
      "Попытка № 5  Test loss: 0.21090506552755833  Test accuracy: 0.9385\n",
      "Попытка № 6  Test loss: 0.21137148083895446  Test accuracy: 0.9389\n",
      "Попытка № 7  Test loss: 0.2115417490437627  Test accuracy: 0.9388\n",
      "Попытка № 8  Test loss: 0.21129335514605047  Test accuracy: 0.9395\n",
      "Попытка № 9  Test loss: 0.2112155700996518  Test accuracy: 0.9385\n"
     ]
    }
   ],
   "source": [
    "# Тренируем изолированную модель\n",
    "\n",
    "print(\"Изолированная модель\")\n",
    "score_loss_I, score_accuracy_I =  [],[]\n",
    "\n",
    "for attempt in range(10): # произведем 10 экспериментов\n",
    "\n",
    "    model.load_weights(filepath=path_0) # загрузим в модельначальные веса\n",
    "\n",
    "    path = \"temp_weights.h5\" # путь к файлу с промежуточными весами\n",
    "    \n",
    "    # Обучаем модель. После каждой эпохи выгружаем веса в файл, перекомпилируем модель и\n",
    "    # загружаем веса обратно\n",
    "    for i in range(epochs):\n",
    "        history = model.fit(x_train, y_train,\n",
    "                            batch_size=batch_size,\n",
    "                            epochs=1,\n",
    "                            verbose=0,\n",
    "                            validation_data=(x_test, y_test),\n",
    "                            shuffle=False)\n",
    "        model.save_weights(filepath=path)\n",
    "        model.compile(loss='categorical_crossentropy',\n",
    "                      optimizer=\"SGD\",\n",
    "                      metrics=['accuracy'])\n",
    "        model.load_weights(filepath=path)\n",
    "\n",
    "    # Оценим результаты обучения\n",
    "    score = model.evaluate(x_test, y_test, verbose=0)\n",
    "    print('Попытка №',attempt,' Test loss:', score[0], ' Test accuracy:', score[1])\n",
    "    # Сохраним результаты\n",
    "    score_loss_I.append(score[0])\n",
    "    score_accuracy_I.append(score[1])\n"
   ]
  },
  {
   "cell_type": "markdown",
   "metadata": {},
   "source": [
    "### Тренируем монолитную модель"
   ]
  },
  {
   "cell_type": "code",
   "execution_count": 6,
   "metadata": {},
   "outputs": [
    {
     "name": "stdout",
     "output_type": "stream",
     "text": [
      "Монолитная модель\n",
      "Попытка №  0  Test loss: 0.2113642861381173  Test accuracy: 0.9389\n",
      "Попытка №  1  Test loss: 0.2118012183919549  Test accuracy: 0.9387\n",
      "Попытка №  2  Test loss: 0.21153719843328  Test accuracy: 0.9393\n",
      "Попытка №  3  Test loss: 0.2104892091035843  Test accuracy: 0.9392\n",
      "Попытка №  4  Test loss: 0.21070018615722655  Test accuracy: 0.9397\n",
      "Попытка №  5  Test loss: 0.21155692620277405  Test accuracy: 0.9379\n",
      "Попытка №  6  Test loss: 0.21162566715925932  Test accuracy: 0.9392\n",
      "Попытка №  7  Test loss: 0.21189376911520957  Test accuracy: 0.9386\n",
      "Попытка №  8  Test loss: 0.21148181668072938  Test accuracy: 0.9388\n",
      "Попытка №  9  Test loss: 0.21114144530594348  Test accuracy: 0.9388\n"
     ]
    }
   ],
   "source": [
    "# Тренируем монолитную модель\n",
    "\n",
    "print(\"Монолитная модель\")\n",
    "\n",
    "score_loss_M, score_accuracy_M =  [],[]\n",
    "\n",
    "for attempt in range(10): # произведем 10 экспериментов\n",
    "\n",
    "    model.load_weights(filepath=path_0) # загрузим в модель начальные веса\n",
    "\n",
    "    #Обучим модель\n",
    "    history = model.fit(x_train, y_train, \n",
    "                        batch_size=batch_size,\n",
    "                        epochs=epochs,\n",
    "                        verbose=0,\n",
    "                        validation_data=(x_test, y_test),\n",
    "                        shuffle=False)\n",
    "\n",
    "    # Оценим результаты обучения\n",
    "    score = model.evaluate(x_test, y_test, verbose=0)\n",
    "    print('Попытка № ',attempt,' Test loss:', score[0], ' Test accuracy:', score[1])\n",
    "    # Сохраним результаты\n",
    "    score_loss_M.append(score[0])\n",
    "    score_accuracy_M.append(score[1])"
   ]
  },
  {
   "cell_type": "markdown",
   "metadata": {},
   "source": [
    "### Сравнение результатов на графике"
   ]
  },
  {
   "cell_type": "code",
   "execution_count": 7,
   "metadata": {},
   "outputs": [
    {
     "data": {
      "image/png": "[encoded data removed]",
      "text/plain": [
       "<Figure size 432x288 with 1 Axes>"
      ]
     },
     "metadata": {},
     "output_type": "display_data"
    },
    {
     "data": {
      "image/png": "[encoded data removed]",
      "text/plain": [
       "<Figure size 432x288 with 1 Axes>"
      ]
     },
     "metadata": {},
     "output_type": "display_data"
    }
   ],
   "source": [
    "import matplotlib.pyplot as plt\n",
    "%matplotlib inline\n",
    "\n",
    "x = [1, 2, 3, 4, 5, 6, 7, 8, 9, 10]\n",
    "\n",
    "# summarize for accuracy\n",
    "plt.plot(x,score_accuracy_M)\n",
    "plt.plot(x,score_accuracy_I)\n",
    "plt.title('model accuracy')\n",
    "plt.ylabel('accuracy')\n",
    "plt.xlabel('attempt')\n",
    "plt.legend(['Monolit', 'Isolate'], loc='upper left')\n",
    "plt.show()\n",
    "\n",
    "# summarize for loss_M\n",
    "plt.plot(x,score_loss_M)\n",
    "plt.plot(x,score_loss_I)\n",
    "plt.title('model loss')\n",
    "plt.ylabel('loss')\n",
    "plt.xlabel('attempt')\n",
    "plt.legend(['Monolit', 'Isolate'], loc='upper left')\n",
    "plt.show()"
   ]
  }
 ],
 "metadata": {
  "kernelspec": {
   "display_name": "Python 3",
   "language": "python",
   "name": "python3"
  },
  "language_info": {
   "codemirror_mode": {
    "name": "ipython",
    "version": 3
   },
   "file_extension": ".py",
   "mimetype": "text/x-python",
   "name": "python",
   "nbconvert_exporter": "python",
   "pygments_lexer": "ipython3",
   "version": "3.5.2+"
  }
 },
 "nbformat": 4,
 "nbformat_minor": 2
}
